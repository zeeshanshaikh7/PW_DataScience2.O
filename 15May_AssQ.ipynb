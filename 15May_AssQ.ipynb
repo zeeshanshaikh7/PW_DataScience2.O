{
 "cells": [
  {
   "cell_type": "markdown",
   "id": "508c589a",
   "metadata": {},
   "source": [
    "# Q01: How do you comment code in python? what are the different types of comments?"
   ]
  },
  {
   "cell_type": "markdown",
   "id": "c07f0145",
   "metadata": {},
   "source": [
    "#### there are two types of comments in python\n",
    "1: single line comment\n",
    "2: multiline comment\n",
    "\n",
    "in single line comment we use # for commenting a code\n",
    "\n",
    "and in multiline comment we use\n",
    "1: '''  _  ''' \n",
    "OR \n",
    "2: \"\"\"  _  \"\"\"\n",
    "in between single inverted commas or double inverted commas any code or text comes consider as comment as well as string"
   ]
  },
  {
   "cell_type": "code",
   "execution_count": null,
   "id": "c6a112ac",
   "metadata": {},
   "outputs": [],
   "source": []
  },
  {
   "cell_type": "markdown",
   "id": "8877f964",
   "metadata": {},
   "source": [
    "# Q02: what are variables in python? How do you declare and assign value to variable?"
   ]
  },
  {
   "cell_type": "code",
   "execution_count": 1,
   "id": "7caf0010",
   "metadata": {},
   "outputs": [],
   "source": [
    "'''\n",
    "variables are like containers which stores some value in it\n",
    "we can declare a variable and assign value to it using following syntax\n",
    "\n",
    "variable_name = value\n",
    "\n",
    "depending upon value varaibles could be of any type i.e int, float,string,bool etc.\n",
    "'''\n",
    "# here is an example of declaring variable x and assigning value 10 in it\n",
    "x = 10"
   ]
  },
  {
   "cell_type": "code",
   "execution_count": 2,
   "id": "304689f3",
   "metadata": {},
   "outputs": [
    {
     "data": {
      "text/plain": [
       "10"
      ]
     },
     "execution_count": 2,
     "metadata": {},
     "output_type": "execute_result"
    }
   ],
   "source": [
    "x   # see variable x contains value 10"
   ]
  },
  {
   "cell_type": "code",
   "execution_count": 4,
   "id": "07def014",
   "metadata": {},
   "outputs": [
    {
     "name": "stdout",
     "output_type": "stream",
     "text": [
      "1,2,3\n"
     ]
    }
   ],
   "source": [
    "# we can also declare multiple variables and assign value to them in a single line\n",
    "a,b,c = 1,2,3\n",
    "\n",
    "print(f'{a},{b},{c}')"
   ]
  },
  {
   "cell_type": "code",
   "execution_count": null,
   "id": "cf56124e",
   "metadata": {},
   "outputs": [],
   "source": []
  },
  {
   "cell_type": "markdown",
   "id": "a86bbf2b",
   "metadata": {},
   "source": [
    "# Q03: How do you convert one data type to another in python"
   ]
  },
  {
   "cell_type": "code",
   "execution_count": null,
   "id": "2d1bfe5a",
   "metadata": {},
   "outputs": [],
   "source": [
    "\"\"\" WE can use type casting to convert one data type into another data type, in type casting different functions are used\n",
    "like int() , str() , float() , iter() etc\n",
    "we pass value to these functions to convert into specific data type\n",
    "\"\"\"\n"
   ]
  },
  {
   "cell_type": "code",
   "execution_count": 42,
   "id": "006b824d",
   "metadata": {},
   "outputs": [
    {
     "data": {
      "text/plain": [
       "str"
      ]
     },
     "execution_count": 42,
     "metadata": {},
     "output_type": "execute_result"
    }
   ],
   "source": [
    "#example: int to string data type\n",
    "st = 1255\n",
    "str_new = str(st)    # we are passing variable st which is int in type to str() function to convert it into string\n",
    "\n",
    "type(str_new)"
   ]
  },
  {
   "cell_type": "code",
   "execution_count": 44,
   "id": "5b446ccf",
   "metadata": {},
   "outputs": [
    {
     "data": {
      "text/plain": [
       "float"
      ]
     },
     "execution_count": 44,
     "metadata": {},
     "output_type": "execute_result"
    }
   ],
   "source": [
    "# string to float \n",
    "st1 = \"3.14\"\n",
    "st1_new = float(st1)\n",
    "type(st1_new)"
   ]
  },
  {
   "cell_type": "code",
   "execution_count": 46,
   "id": "b6f0ab28",
   "metadata": {},
   "outputs": [
    {
     "data": {
      "text/plain": [
       "int"
      ]
     },
     "execution_count": 46,
     "metadata": {},
     "output_type": "execute_result"
    }
   ],
   "source": [
    "# string to int\n",
    "st2 = \"1234\"\n",
    "st2_new = int(st2)\n",
    "type(st2_new)"
   ]
  },
  {
   "cell_type": "markdown",
   "id": "42c8e0b2",
   "metadata": {},
   "source": [
    "# Q04: How do you write and execute a python script from command line"
   ]
  },
  {
   "cell_type": "code",
   "execution_count": null,
   "id": "b3934c36",
   "metadata": {},
   "outputs": [],
   "source": [
    "'''\n",
    "To write and execute python script from command line we can use following steps:\n",
    "1: open a text editor and create a new file\n",
    "2: write a code and save it with extension .py example: <my_script.py>\n",
    "3: open command promt in your PC\n",
    "4: Navigate directory where you have saved your python script using cd command\n",
    "5: once you are in correct directory execute the python script by typing python3 followed by name of your script\n",
    "    example: <python3 my_script.py>\n",
    "6: press enter the output if any will be displayed in terminal\n",
    "'''"
   ]
  },
  {
   "cell_type": "code",
   "execution_count": null,
   "id": "5e0f665d",
   "metadata": {},
   "outputs": [],
   "source": []
  },
  {
   "cell_type": "markdown",
   "id": "aa523bec",
   "metadata": {},
   "source": [
    "# Q05: given a list my_list = [1,2,3,4,5], write a code to slice the list and obtain the sub_list[2,3]"
   ]
  },
  {
   "cell_type": "code",
   "execution_count": 10,
   "id": "080911f9",
   "metadata": {},
   "outputs": [],
   "source": [
    "my_list = [1,2,3,4,5]"
   ]
  },
  {
   "cell_type": "code",
   "execution_count": 15,
   "id": "f4312418",
   "metadata": {},
   "outputs": [],
   "source": [
    "sub_list = my_list[1:3]"
   ]
  },
  {
   "cell_type": "code",
   "execution_count": 16,
   "id": "f7f25cd6",
   "metadata": {},
   "outputs": [
    {
     "data": {
      "text/plain": [
       "[2, 3]"
      ]
     },
     "execution_count": 16,
     "metadata": {},
     "output_type": "execute_result"
    }
   ],
   "source": [
    "sub_list"
   ]
  },
  {
   "cell_type": "code",
   "execution_count": null,
   "id": "c3ea61b4",
   "metadata": {},
   "outputs": [],
   "source": []
  },
  {
   "cell_type": "markdown",
   "id": "14acf917",
   "metadata": {},
   "source": [
    "# Q06: what is a complex number in mathematics,and how it is represented in pyhton?"
   ]
  },
  {
   "cell_type": "code",
   "execution_count": 14,
   "id": "b103e34a",
   "metadata": {},
   "outputs": [
    {
     "data": {
      "text/plain": [
       "complex"
      ]
     },
     "execution_count": 14,
     "metadata": {},
     "output_type": "execute_result"
    }
   ],
   "source": [
    "\"\"\"\n",
    "in mathematics, a complex number is a number that can be expressed in the form of a + bi where a and b are\n",
    "real numbers and i is imaginary unit defined as square root of -1\n",
    "\"\"\"\n",
    "\n",
    "'''\n",
    "in python complex numbers are represented using complex data type.\n",
    "The imaginary unit i is represented by j in pyhton\n",
    "'''\n",
    "comlpex_num = 3+2j      # this is complex number where 3 is real part and 2j is imaginary part\n",
    "type(comlpex_num)    "
   ]
  },
  {
   "cell_type": "code",
   "execution_count": null,
   "id": "c64810d4",
   "metadata": {},
   "outputs": [],
   "source": []
  },
  {
   "cell_type": "markdown",
   "id": "fff71217",
   "metadata": {},
   "source": [
    "# Q07: What is correct way to declare variable named age and assign a value 25 to it?"
   ]
  },
  {
   "cell_type": "code",
   "execution_count": 19,
   "id": "89801ad2",
   "metadata": {},
   "outputs": [],
   "source": [
    "age = 25"
   ]
  },
  {
   "cell_type": "code",
   "execution_count": 20,
   "id": "651e297e",
   "metadata": {},
   "outputs": [
    {
     "data": {
      "text/plain": [
       "25"
      ]
     },
     "execution_count": 20,
     "metadata": {},
     "output_type": "execute_result"
    }
   ],
   "source": [
    "age"
   ]
  },
  {
   "cell_type": "code",
   "execution_count": null,
   "id": "0ef10d6f",
   "metadata": {},
   "outputs": [],
   "source": []
  },
  {
   "cell_type": "markdown",
   "id": "b2df6d86",
   "metadata": {},
   "source": [
    "# Q08: Declare a variable names price and assign the value 9.99 to it. What data type does this variable belongs to?"
   ]
  },
  {
   "cell_type": "code",
   "execution_count": 21,
   "id": "e32cb262",
   "metadata": {},
   "outputs": [],
   "source": [
    "price = 9.99"
   ]
  },
  {
   "cell_type": "code",
   "execution_count": 22,
   "id": "ef6a23f8",
   "metadata": {},
   "outputs": [
    {
     "data": {
      "text/plain": [
       "float"
      ]
     },
     "execution_count": 22,
     "metadata": {},
     "output_type": "execute_result"
    }
   ],
   "source": [
    "type(price)  # thus this variable is float type"
   ]
  },
  {
   "cell_type": "code",
   "execution_count": null,
   "id": "eb5ea42e",
   "metadata": {},
   "outputs": [],
   "source": []
  },
  {
   "cell_type": "markdown",
   "id": "8ee29214",
   "metadata": {},
   "source": [
    "# Q09: Create a variable named name and assign your full name to it as a string. How would you print the value of this variable"
   ]
  },
  {
   "cell_type": "code",
   "execution_count": 23,
   "id": "ed05fff5",
   "metadata": {},
   "outputs": [],
   "source": [
    "name = 'shaikh zeeshan ahmed'"
   ]
  },
  {
   "cell_type": "code",
   "execution_count": 24,
   "id": "d0810779",
   "metadata": {},
   "outputs": [
    {
     "name": "stdout",
     "output_type": "stream",
     "text": [
      "my name is shaikh zeeshan ahmed\n"
     ]
    }
   ],
   "source": [
    "print(f\"my name is {name}\")"
   ]
  },
  {
   "cell_type": "code",
   "execution_count": null,
   "id": "666da8d1",
   "metadata": {},
   "outputs": [],
   "source": []
  },
  {
   "cell_type": "markdown",
   "id": "908cc16b",
   "metadata": {},
   "source": [
    "# Q10: Given the string \"Hello, World!\", extract the substring \"world\""
   ]
  },
  {
   "cell_type": "code",
   "execution_count": 25,
   "id": "9998ed1c",
   "metadata": {},
   "outputs": [],
   "source": [
    "string = \"Hello, World!\""
   ]
  },
  {
   "cell_type": "code",
   "execution_count": 32,
   "id": "0351af43",
   "metadata": {},
   "outputs": [],
   "source": [
    "sub_string = string[-6:-1:1]"
   ]
  },
  {
   "cell_type": "code",
   "execution_count": 33,
   "id": "9c1ab17d",
   "metadata": {},
   "outputs": [
    {
     "data": {
      "text/plain": [
       "'World'"
      ]
     },
     "execution_count": 33,
     "metadata": {},
     "output_type": "execute_result"
    }
   ],
   "source": [
    "sub_string"
   ]
  },
  {
   "cell_type": "code",
   "execution_count": null,
   "id": "32b3406f",
   "metadata": {},
   "outputs": [],
   "source": []
  },
  {
   "cell_type": "markdown",
   "id": "5e1df52b",
   "metadata": {},
   "source": [
    "# Q11: Create a variable named \"is_student\" and assign it a boolean value indicating whether you are currently a student or not"
   ]
  },
  {
   "cell_type": "code",
   "execution_count": 34,
   "id": "35b27c23",
   "metadata": {},
   "outputs": [],
   "source": [
    "is_student = True"
   ]
  },
  {
   "cell_type": "code",
   "execution_count": 35,
   "id": "7ecc4e54",
   "metadata": {},
   "outputs": [
    {
     "data": {
      "text/plain": [
       "bool"
      ]
     },
     "execution_count": 35,
     "metadata": {},
     "output_type": "execute_result"
    }
   ],
   "source": [
    "type(is_student)"
   ]
  },
  {
   "cell_type": "code",
   "execution_count": 36,
   "id": "a1812a32",
   "metadata": {},
   "outputs": [
    {
     "name": "stdout",
     "output_type": "stream",
     "text": [
      "you are a student\n"
     ]
    }
   ],
   "source": [
    "if is_student:\n",
    "    print(\"you are a student\")"
   ]
  },
  {
   "cell_type": "code",
   "execution_count": null,
   "id": "dbfd0fb2",
   "metadata": {},
   "outputs": [],
   "source": []
  }
 ],
 "metadata": {
  "kernelspec": {
   "display_name": "Python 3 (ipykernel)",
   "language": "python",
   "name": "python3"
  },
  "language_info": {
   "codemirror_mode": {
    "name": "ipython",
    "version": 3
   },
   "file_extension": ".py",
   "mimetype": "text/x-python",
   "name": "python",
   "nbconvert_exporter": "python",
   "pygments_lexer": "ipython3",
   "version": "3.10.9"
  }
 },
 "nbformat": 4,
 "nbformat_minor": 5
}
