{
 "cells": [
  {
   "cell_type": "markdown",
   "id": "3e95a725",
   "metadata": {},
   "source": [
    "# Q1. Create one variable containing following type of data:\n",
    "\n",
    "(i) string\n",
    "\n",
    "(ii) list\n",
    "\n",
    "(iii) float\n",
    "\n",
    "(iv) tuple\n"
   ]
  },
  {
   "cell_type": "code",
   "execution_count": 48,
   "id": "97f08b2c",
   "metadata": {},
   "outputs": [],
   "source": [
    "var_list = ['string',['str',25, 5+5j, 25.50], 2.10 ,(\"apple\",\"banana\",\"mango\") ]\n",
    "\n",
    "#here i have created list variable and stored string list float and tuple respectively in it"
   ]
  },
  {
   "cell_type": "code",
   "execution_count": null,
   "id": "214e92e5",
   "metadata": {},
   "outputs": [],
   "source": []
  },
  {
   "cell_type": "markdown",
   "id": "36e7014d",
   "metadata": {},
   "source": [
    "# Q2. Given are some following variables containing data:\n",
    "\n",
    "(i) var1 = ‘ ‘\n",
    "\n",
    "(ii) var2 = ‘[ DS , ML , Python]’\n",
    "\n",
    "(iii) var3 = [ ‘DS’ , ’ML’ , ‘Python’ ]\n",
    "\n",
    "(iv) var4 = 1.\n",
    "\n",
    "What will be the data type of the above given variable\n"
   ]
  },
  {
   "cell_type": "code",
   "execution_count": 49,
   "id": "19617e34",
   "metadata": {},
   "outputs": [
    {
     "data": {
      "text/plain": [
       "'\\nanswers:\\ni)   str\\nii)  str\\niii) list\\niv)  int\\n'"
      ]
     },
     "execution_count": 49,
     "metadata": {},
     "output_type": "execute_result"
    }
   ],
   "source": [
    "'''\n",
    "answers:\n",
    "i)   str\n",
    "ii)  str\n",
    "iii) list\n",
    "iv)  int\n",
    "'''\n",
    "#code is given below\n"
   ]
  },
  {
   "cell_type": "code",
   "execution_count": 50,
   "id": "534dc430",
   "metadata": {},
   "outputs": [
    {
     "data": {
      "text/plain": [
       "str"
      ]
     },
     "execution_count": 50,
     "metadata": {},
     "output_type": "execute_result"
    }
   ],
   "source": [
    "var1 = ''\n",
    "type(var1)"
   ]
  },
  {
   "cell_type": "code",
   "execution_count": 51,
   "id": "05d5d2d0",
   "metadata": {},
   "outputs": [
    {
     "data": {
      "text/plain": [
       "str"
      ]
     },
     "execution_count": 51,
     "metadata": {},
     "output_type": "execute_result"
    }
   ],
   "source": [
    "var2 = '[DS,ML,python]'\n",
    "type(var2)"
   ]
  },
  {
   "cell_type": "code",
   "execution_count": 52,
   "id": "08566b3c",
   "metadata": {},
   "outputs": [
    {
     "data": {
      "text/plain": [
       "list"
      ]
     },
     "execution_count": 52,
     "metadata": {},
     "output_type": "execute_result"
    }
   ],
   "source": [
    "var3 = ['DS','ML', 'Python']\n",
    "type(var3)"
   ]
  },
  {
   "cell_type": "code",
   "execution_count": 53,
   "id": "d42bd07b",
   "metadata": {},
   "outputs": [
    {
     "data": {
      "text/plain": [
       "int"
      ]
     },
     "execution_count": 53,
     "metadata": {},
     "output_type": "execute_result"
    }
   ],
   "source": [
    "var4 = 1\n",
    "type(var4)"
   ]
  },
  {
   "cell_type": "code",
   "execution_count": null,
   "id": "008209ed",
   "metadata": {},
   "outputs": [],
   "source": []
  },
  {
   "cell_type": "markdown",
   "id": "cf5d7009-5a3f-4592-a89a-defdf7120022",
   "metadata": {},
   "source": [
    "# Q3. Explain the use of the following operators using an example:\n",
    "(i) /\n",
    "(ii) %\n",
    "(iii) //\n",
    "(iv) **\n"
   ]
  },
  {
   "cell_type": "code",
   "execution_count": 54,
   "id": "ffc5ae44-d65a-47db-a8af-687fbca2e745",
   "metadata": {},
   "outputs": [
    {
     "data": {
      "text/plain": [
       "3.3333333333333335"
      ]
     },
     "execution_count": 54,
     "metadata": {},
     "output_type": "execute_result"
    }
   ],
   "source": [
    "'''\n",
    "i) /\n",
    "ans : it divides two numbers and return value\n",
    "'''\n",
    "#example\n",
    "10/3"
   ]
  },
  {
   "cell_type": "code",
   "execution_count": 55,
   "id": "104b6d61-a7ff-4fd8-b022-72037a2aa1bb",
   "metadata": {},
   "outputs": [
    {
     "data": {
      "text/plain": [
       "1"
      ]
     },
     "execution_count": 55,
     "metadata": {},
     "output_type": "execute_result"
    }
   ],
   "source": [
    "'''\n",
    "ii) %\n",
    "ans: it gives you remainder value of two dividing numbers\n",
    "'''\n",
    "#example\n",
    "10%3"
   ]
  },
  {
   "cell_type": "code",
   "execution_count": 56,
   "id": "d22e990d-5858-48fd-8c3e-f4f0441437da",
   "metadata": {},
   "outputs": [
    {
     "data": {
      "text/plain": [
       "3"
      ]
     },
     "execution_count": 56,
     "metadata": {},
     "output_type": "execute_result"
    }
   ],
   "source": [
    "'''\n",
    "iii) //\n",
    "ans: it is floor division operator, it divides two numbers and gives largest possible integer which is\n",
    "less than or equal to divided value of that two numbers\n",
    "'''\n",
    "#example\n",
    "10//3 # in this example 10/3 is 3.3333... but it returns 3 which is largest possible integer"
   ]
  },
  {
   "cell_type": "code",
   "execution_count": 57,
   "id": "5698e305-399a-4e71-8254-9fbe4d05fd27",
   "metadata": {},
   "outputs": [
    {
     "data": {
      "text/plain": [
       "16"
      ]
     },
     "execution_count": 57,
     "metadata": {},
     "output_type": "execute_result"
    }
   ],
   "source": [
    "'''\n",
    "iv) **\n",
    "ans: it is use exponentiation, that is raising a number to a power of other number\n",
    "'''\n",
    "#example\n",
    "4**2  # in this example 2 is raised to power of 4 which gives 16 that is power of 4"
   ]
  },
  {
   "cell_type": "code",
   "execution_count": null,
   "id": "a1732d2f-57e4-4912-a325-78d555f4c4de",
   "metadata": {},
   "outputs": [],
   "source": []
  },
  {
   "cell_type": "markdown",
   "id": "4e29fa4f-5c45-4663-96a3-cc4a16494cc0",
   "metadata": {},
   "source": [
    "# Q4. Create a list of length 10 of your choice containing multiple types of data. Using for loop print the element and its data type\n"
   ]
  },
  {
   "cell_type": "code",
   "execution_count": 58,
   "id": "99d27ba9-2326-4962-90ec-164d918ca770",
   "metadata": {},
   "outputs": [
    {
     "name": "stdout",
     "output_type": "stream",
     "text": [
      "length of list is:  10\n",
      "\n",
      "\n",
      "element: 1 \n",
      "   type: <class 'int'>\n",
      "element: 2.1 \n",
      "   type: <class 'float'>\n",
      "element: (5+5j) \n",
      "   type: <class 'complex'>\n",
      "element: string \n",
      "   type: <class 'str'>\n",
      "element: True \n",
      "   type: <class 'bool'>\n",
      "element: False \n",
      "   type: <class 'bool'>\n",
      "element: 12 \n",
      "   type: <class 'int'>\n",
      "element: 13.3 \n",
      "   type: <class 'float'>\n",
      "element: ['str', 25, (5+5j), 25.5] \n",
      "   type: <class 'list'>\n",
      "element: ('apple', 'banana', 'mango') \n",
      "   type: <class 'tuple'>\n"
     ]
    }
   ],
   "source": [
    "lst = [1, 2.10 , 5+5j,'string',True,False,12,13.3,['str',25, 5+5j, 25.50],(\"apple\",\"banana\",\"mango\") ]\n",
    "\n",
    "print(\"length of list is: \",len(lst))\n",
    "print(\"\\n\")\n",
    "for i in lst:\n",
    "    print(\"element:\",i, \"\\n\" ,\"  type:\",type(i))"
   ]
  },
  {
   "cell_type": "code",
   "execution_count": null,
   "id": "6d27e9ca",
   "metadata": {},
   "outputs": [],
   "source": []
  },
  {
   "cell_type": "markdown",
   "id": "86cfbe9a",
   "metadata": {},
   "source": [
    "# Q5. Using a while loop, verify if the number A is purely divisible by number B and if so then how many times it can be divisible.\n"
   ]
  },
  {
   "cell_type": "code",
   "execution_count": 59,
   "id": "5434747b",
   "metadata": {},
   "outputs": [
    {
     "name": "stdout",
     "output_type": "stream",
     "text": [
      "48 is purely divisible by 2\n",
      "it is divisible in 4 times\n"
     ]
    }
   ],
   "source": [
    "A = 48\n",
    "B = 2\n",
    "temp = A\n",
    "count = 0\n",
    "\n",
    "while temp%B==0:\n",
    "    count+=1\n",
    "    temp = temp/B\n",
    "\n",
    "if count>0:\n",
    "    print(f\"{A} is purely divisible by {B}\")\n",
    "    print(f\"it is divisible in {count} times\")\n",
    "else:\n",
    "    print(f\"{A} is not purely divisible by {B}\")"
   ]
  },
  {
   "cell_type": "code",
   "execution_count": null,
   "id": "c6041819",
   "metadata": {},
   "outputs": [],
   "source": []
  },
  {
   "cell_type": "markdown",
   "id": "9da015e2",
   "metadata": {},
   "source": [
    "# Q6. Create a list containing 25 int type data. Using for loop and if-else condition print if the element is divisible by 3 or not."
   ]
  },
  {
   "cell_type": "code",
   "execution_count": 7,
   "id": "201bb236",
   "metadata": {},
   "outputs": [
    {
     "name": "stdout",
     "output_type": "stream",
     "text": [
      "1 is not divisible by 3\n",
      "2 is not divisible by 3\n",
      "3 is divisible by 3\n",
      "4 is not divisible by 3\n",
      "5 is not divisible by 3\n",
      "6 is divisible by 3\n",
      "7 is not divisible by 3\n",
      "8 is not divisible by 3\n",
      "9 is divisible by 3\n",
      "10 is not divisible by 3\n",
      "11 is not divisible by 3\n",
      "12 is divisible by 3\n",
      "13 is not divisible by 3\n",
      "14 is not divisible by 3\n",
      "15 is divisible by 3\n",
      "16 is not divisible by 3\n",
      "17 is not divisible by 3\n",
      "18 is divisible by 3\n",
      "19 is not divisible by 3\n",
      "20 is not divisible by 3\n",
      "21 is divisible by 3\n",
      "22 is not divisible by 3\n",
      "23 is not divisible by 3\n",
      "24 is divisible by 3\n",
      "25 is not divisible by 3\n"
     ]
    }
   ],
   "source": [
    "elist = range(1,26)\n",
    "\n",
    "for i in elist:\n",
    "    if i%3==0:\n",
    "        print(f\"{i} is divisible by 3\")\n",
    "    else:\n",
    "        print(f\"{i} is not divisible by 3\")\n"
   ]
  },
  {
   "cell_type": "code",
   "execution_count": null,
   "id": "7474108c",
   "metadata": {},
   "outputs": [],
   "source": []
  },
  {
   "cell_type": "markdown",
   "id": "4ebb2d13",
   "metadata": {},
   "source": [
    "# Q7. What do you understand about mutable and immutable data types? Give examples for both showing this property."
   ]
  },
  {
   "cell_type": "code",
   "execution_count": null,
   "id": "f04e0cef",
   "metadata": {},
   "outputs": [],
   "source": [
    "''' answer:\n",
    "--> mutable data types can be changed or modified after their creation while immutable data types are opposite to it\n",
    "that is they can not be changed or modified after their creation\n",
    "--> strings and tuples are immutable while list and dicts are mutable\n",
    "'''\n"
   ]
  },
  {
   "cell_type": "code",
   "execution_count": 11,
   "id": "d587cd5f",
   "metadata": {},
   "outputs": [
    {
     "ename": "TypeError",
     "evalue": "'str' object does not support item assignment",
     "output_type": "error",
     "traceback": [
      "\u001b[1;31m---------------------------------------------------------------------------\u001b[0m",
      "\u001b[1;31mTypeError\u001b[0m                                 Traceback (most recent call last)",
      "Cell \u001b[1;32mIn[11], line 3\u001b[0m\n\u001b[0;32m      1\u001b[0m \u001b[38;5;66;03m#example of immutable data type\u001b[39;00m\n\u001b[0;32m      2\u001b[0m imm_str \u001b[38;5;241m=\u001b[39m \u001b[38;5;124m\"\u001b[39m\u001b[38;5;124mpwskills\u001b[39m\u001b[38;5;124m\"\u001b[39m\n\u001b[1;32m----> 3\u001b[0m imm_str[\u001b[38;5;241m4\u001b[39m] \u001b[38;5;241m=\u001b[39m \u001b[38;5;124m\"\u001b[39m\u001b[38;5;124mI\u001b[39m\u001b[38;5;124m\"\u001b[39m\n",
      "\u001b[1;31mTypeError\u001b[0m: 'str' object does not support item assignment"
     ]
    }
   ],
   "source": [
    "#example of immutable data type\n",
    "# it show error, we can not update or replace value to it hance it is immutable\n",
    "imm_str = \"pwskills\"\n",
    "imm_str[4] = \"I\""
   ]
  },
  {
   "cell_type": "code",
   "execution_count": 13,
   "id": "97006a6c",
   "metadata": {},
   "outputs": [
    {
     "data": {
      "text/plain": [
       "[1, 2.1, (5+5j), 'hello', True, False, 12, 13.3, 'append_object']"
      ]
     },
     "execution_count": 13,
     "metadata": {},
     "output_type": "execute_result"
    }
   ],
   "source": [
    "#example of mutable data \n",
    "#objects of list changes without any error because it is mutable\n",
    "\n",
    "mut_list = [1, 2.10 , 5+5j,'string',True,False, 12 , 13.3]\n",
    "\n",
    "mut_list[3] = \"hello\"\n",
    "mut_list.append(\"append_object\")\n",
    "mut_list"
   ]
  }
 ],
 "metadata": {
  "kernelspec": {
   "display_name": "Python 3 (ipykernel)",
   "language": "python",
   "name": "python3"
  },
  "language_info": {
   "codemirror_mode": {
    "name": "ipython",
    "version": 3
   },
   "file_extension": ".py",
   "mimetype": "text/x-python",
   "name": "python",
   "nbconvert_exporter": "python",
   "pygments_lexer": "ipython3",
   "version": "3.10.9"
  },
  "toc-autonumbering": false,
  "toc-showmarkdowntxt": false,
  "toc-showtags": false
 },
 "nbformat": 4,
 "nbformat_minor": 5
}
