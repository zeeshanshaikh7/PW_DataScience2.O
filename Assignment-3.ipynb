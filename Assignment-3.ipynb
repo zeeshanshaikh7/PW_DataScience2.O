{
 "cells": [
  {
   "cell_type": "markdown",
   "id": "b1467e4a",
   "metadata": {},
   "source": [
    "# Q1. Which keyword is used to create a function? Create a function to return a list of odd numbers in the range of 1 to 25"
   ]
  },
  {
   "cell_type": "code",
   "execution_count": 1,
   "id": "c88a1ae6",
   "metadata": {},
   "outputs": [],
   "source": [
    "# def keyword is used to create a function"
   ]
  },
  {
   "cell_type": "code",
   "execution_count": 7,
   "id": "fcf01e92",
   "metadata": {},
   "outputs": [],
   "source": [
    "# function to create a list of odd numbers\n",
    "\n",
    "def odd():\n",
    "    l=[]\n",
    "    for i in range(1,25):\n",
    "        if i%2!=0:\n",
    "            l.append(i)\n",
    "    return l"
   ]
  },
  {
   "cell_type": "code",
   "execution_count": 8,
   "id": "74357f8a",
   "metadata": {},
   "outputs": [
    {
     "data": {
      "text/plain": [
       "[1, 3, 5, 7, 9, 11, 13, 15, 17, 19, 21, 23]"
      ]
     },
     "execution_count": 8,
     "metadata": {},
     "output_type": "execute_result"
    }
   ],
   "source": [
    "odd()"
   ]
  },
  {
   "cell_type": "code",
   "execution_count": null,
   "id": "612c279c",
   "metadata": {},
   "outputs": [],
   "source": []
  },
  {
   "cell_type": "markdown",
   "id": "a586a194",
   "metadata": {},
   "source": [
    "# Q2. Why *args and **kwargs is used in some functions? Create a function each for *args and **kwargs to demonstrate their use"
   ]
  },
  {
   "cell_type": "markdown",
   "id": "24ac18e8",
   "metadata": {},
   "source": [
    "### *args\n",
    "*args is used as parameter in functions to take number of arguments and return tuple as collecction of arguments\n",
    "\n",
    "### **kwargs\n",
    "**kwargs is used as a parameter in function to take number of arguments similar to the *args but difference is that this\n",
    "returns the dictionary collection of arguments,where we have to define both keyword and value\n"
   ]
  },
  {
   "cell_type": "code",
   "execution_count": 2,
   "id": "e0050583",
   "metadata": {},
   "outputs": [],
   "source": [
    "def args(*args):\n",
    "    return args"
   ]
  },
  {
   "cell_type": "code",
   "execution_count": 3,
   "id": "814a8f3d",
   "metadata": {},
   "outputs": [
    {
     "data": {
      "text/plain": [
       "(1, 2, 3, 4, 5)"
      ]
     },
     "execution_count": 3,
     "metadata": {},
     "output_type": "execute_result"
    }
   ],
   "source": [
    "args(1,2,3,4,5)"
   ]
  },
  {
   "cell_type": "code",
   "execution_count": 4,
   "id": "53090212",
   "metadata": {},
   "outputs": [],
   "source": [
    "def kwargs(**kwargs):\n",
    "    return kwargs"
   ]
  },
  {
   "cell_type": "code",
   "execution_count": 6,
   "id": "c5ae7917",
   "metadata": {},
   "outputs": [
    {
     "data": {
      "text/plain": [
       "{'a': 1, 'b': 2, 'c': 3}"
      ]
     },
     "execution_count": 6,
     "metadata": {},
     "output_type": "execute_result"
    }
   ],
   "source": [
    "kwargs(a=1,b=2,c=3)"
   ]
  },
  {
   "cell_type": "code",
   "execution_count": null,
   "id": "c5a1556c",
   "metadata": {},
   "outputs": [],
   "source": []
  },
  {
   "cell_type": "markdown",
   "id": "f1f2ad8a",
   "metadata": {},
   "source": [
    "# Q3.  What is an iterator in python? Name the method used to initialise the iterator object and the method used for iteration. Use these methods to print the first five elements of the given list [2, 4, 6, 8, 10, 12, 14, 16, 18, 20]."
   ]
  },
  {
   "cell_type": "markdown",
   "id": "0bff9bf9",
   "metadata": {},
   "source": [
    "### iterator:\n",
    "    iterator is an object used is python that implement iterator protocol, it allow us iterate of non iterable objects by making them iterable\n",
    "    \n",
    "### methods:\n",
    "    iter() and next() are the two methods that are used to iterate over.\n",
    "    iter() returns the iterable object whereas next() is responsible for returning next value in iteratot"
   ]
  },
  {
   "cell_type": "code",
   "execution_count": 1,
   "id": "f4789fc6",
   "metadata": {},
   "outputs": [],
   "source": [
    "#example\n",
    "l = [2, 4, 6, 8, 10, 12, 14, 16, 18, 20]"
   ]
  },
  {
   "cell_type": "code",
   "execution_count": 2,
   "id": "f501e5ef",
   "metadata": {},
   "outputs": [],
   "source": [
    "l1 = iter(l) #using iter() method"
   ]
  },
  {
   "cell_type": "code",
   "execution_count": 3,
   "id": "339260ae",
   "metadata": {},
   "outputs": [
    {
     "data": {
      "text/plain": [
       "2"
      ]
     },
     "execution_count": 3,
     "metadata": {},
     "output_type": "execute_result"
    }
   ],
   "source": [
    "next(l1) #returning 1st value"
   ]
  },
  {
   "cell_type": "code",
   "execution_count": 4,
   "id": "0805ef40",
   "metadata": {},
   "outputs": [
    {
     "data": {
      "text/plain": [
       "4"
      ]
     },
     "execution_count": 4,
     "metadata": {},
     "output_type": "execute_result"
    }
   ],
   "source": [
    "next(l1) #returning 2nd value"
   ]
  },
  {
   "cell_type": "code",
   "execution_count": 5,
   "id": "299542eb",
   "metadata": {},
   "outputs": [
    {
     "data": {
      "text/plain": [
       "6"
      ]
     },
     "execution_count": 5,
     "metadata": {},
     "output_type": "execute_result"
    }
   ],
   "source": [
    "next(l1) #returning 3rd value"
   ]
  },
  {
   "cell_type": "code",
   "execution_count": 6,
   "id": "9eb7c7fa",
   "metadata": {},
   "outputs": [
    {
     "data": {
      "text/plain": [
       "8"
      ]
     },
     "execution_count": 6,
     "metadata": {},
     "output_type": "execute_result"
    }
   ],
   "source": [
    "next(l1) #returning 4th value"
   ]
  },
  {
   "cell_type": "code",
   "execution_count": 7,
   "id": "9f7acacc",
   "metadata": {},
   "outputs": [
    {
     "data": {
      "text/plain": [
       "10"
      ]
     },
     "execution_count": 7,
     "metadata": {},
     "output_type": "execute_result"
    }
   ],
   "source": [
    "next(l1) #returning 5th value"
   ]
  },
  {
   "cell_type": "code",
   "execution_count": null,
   "id": "bb41bbcc",
   "metadata": {},
   "outputs": [],
   "source": []
  },
  {
   "cell_type": "markdown",
   "id": "3db78678",
   "metadata": {},
   "source": [
    "# Q4.  What is a generator function in python? Why yield keyword is used? Give an example of a generator function."
   ]
  },
  {
   "cell_type": "markdown",
   "id": "22ea1ab4",
   "metadata": {},
   "source": [
    "### generator function:\n",
    "    generator function is a function that returns iterator that produces sequence of values when iterated over\n",
    "    generator function are useful when we want large set of values but dont want to store them at once\n",
    "    \n",
    "### yield keyword:\n",
    "    yield keyword is used to produce value from genertor function\n",
    "    "
   ]
  },
  {
   "cell_type": "code",
   "execution_count": 13,
   "id": "1f4d5f68",
   "metadata": {},
   "outputs": [],
   "source": [
    "# program to generate fibonacci series using generator function\n",
    "def generator(n):\n",
    "    a,b = 0,1\n",
    "    for i in range(n):\n",
    "        yield a\n",
    "        a,b=b,a+b"
   ]
  },
  {
   "cell_type": "code",
   "execution_count": 14,
   "id": "9c0ec191",
   "metadata": {},
   "outputs": [],
   "source": [
    "gen_object = generator(10)"
   ]
  },
  {
   "cell_type": "code",
   "execution_count": 15,
   "id": "9f1eab91",
   "metadata": {},
   "outputs": [
    {
     "name": "stdout",
     "output_type": "stream",
     "text": [
      "0\n",
      "1\n",
      "1\n",
      "2\n",
      "3\n",
      "5\n",
      "8\n",
      "13\n",
      "21\n",
      "34\n"
     ]
    }
   ],
   "source": [
    "for i in gen_object:\n",
    "    print(i)"
   ]
  },
  {
   "cell_type": "code",
   "execution_count": null,
   "id": "f3b91be5",
   "metadata": {},
   "outputs": [],
   "source": []
  },
  {
   "cell_type": "markdown",
   "id": "c766d118",
   "metadata": {},
   "source": [
    "# Q5. Create a generator function for prime numbers less than 1000. Use the next() method to print the first 20 prime numbers.\n"
   ]
  },
  {
   "cell_type": "code",
   "execution_count": 54,
   "id": "f87c7cbf",
   "metadata": {},
   "outputs": [
    {
     "data": {
      "text/plain": [
       "[2, 3, 5, 7, 11, 13, 17, 19, 23, 29, 31, 37, 41, 43, 47, 53, 59, 61, 67, 71]"
      ]
     },
     "execution_count": 54,
     "metadata": {},
     "output_type": "execute_result"
    }
   ],
   "source": [
    "#prime number function\n",
    "def prime(num):\n",
    "    if num < 2 :\n",
    "        return False\n",
    "    elif num==2:\n",
    "        return True\n",
    "    for i in range(2,num):\n",
    "        if num%i==0:\n",
    "            return False\n",
    "    return True\n",
    "\n",
    "#generator function\n",
    "def gen(n):\n",
    "    for i in range(n):\n",
    "        if prime(i):\n",
    "            yield i\n",
    "\n",
    "pr = gen(1000)\n",
    "pr_list = []\n",
    "\n",
    "#creating list\n",
    "count = 0\n",
    "while count < 20:\n",
    "    pr_list.append(next(pr))   #appending into list\n",
    "    count += 1\n",
    "\n",
    "#printing list\n",
    "pr_list"
   ]
  },
  {
   "cell_type": "code",
   "execution_count": null,
   "id": "9472614c",
   "metadata": {},
   "outputs": [],
   "source": []
  },
  {
   "cell_type": "markdown",
   "id": "bf703789",
   "metadata": {},
   "source": [
    "# Q6. Write a python program to print the first 10 Fibonacci numbers using a while loop\n"
   ]
  },
  {
   "cell_type": "code",
   "execution_count": 55,
   "id": "af001591",
   "metadata": {},
   "outputs": [
    {
     "name": "stdout",
     "output_type": "stream",
     "text": [
      "0\n",
      "1\n",
      "1\n",
      "2\n",
      "3\n",
      "5\n",
      "8\n",
      "13\n",
      "21\n",
      "34\n"
     ]
    }
   ],
   "source": [
    "# program to generate fibonacci series using generator function\n",
    "def fib(n):\n",
    "    a,b = 0,1\n",
    "    for i in range(n):\n",
    "        yield a\n",
    "        a,b=b,a+b\n",
    "fib = fib(10)\n",
    "for i in fib:\n",
    "    print(i)"
   ]
  },
  {
   "cell_type": "code",
   "execution_count": null,
   "id": "a2a4fe83",
   "metadata": {},
   "outputs": [],
   "source": []
  },
  {
   "cell_type": "markdown",
   "id": "92824c19",
   "metadata": {},
   "source": [
    "# Q7. Write a List Comprehension to iterate through the given string: ‘pwskills’.Expected output: ['p', 'w', 's', 'k', 'i', 'l', 'l', 's'] "
   ]
  },
  {
   "cell_type": "code",
   "execution_count": 58,
   "id": "2b3007fc",
   "metadata": {},
   "outputs": [
    {
     "data": {
      "text/plain": [
       "['p', 'w', 's', 'k', 'i', 'l', 'l', 's']"
      ]
     },
     "execution_count": 58,
     "metadata": {},
     "output_type": "execute_result"
    }
   ],
   "source": [
    "s = 'pwskills'\n",
    "[i for i in s]"
   ]
  },
  {
   "cell_type": "code",
   "execution_count": null,
   "id": "d61e4436",
   "metadata": {},
   "outputs": [],
   "source": []
  },
  {
   "cell_type": "markdown",
   "id": "f5612c44",
   "metadata": {},
   "source": [
    "# Q8. Write a python program to check whether a given number is Palindrome or not using a while loop.\n"
   ]
  },
  {
   "cell_type": "code",
   "execution_count": 75,
   "id": "76a0bd3a",
   "metadata": {},
   "outputs": [
    {
     "name": "stdout",
     "output_type": "stream",
     "text": [
      "input any number: 12321\n",
      "12321 is a pelindrome number\n"
     ]
    }
   ],
   "source": [
    "pel = int(input('input any number: '))\n",
    "pel1 = str(pel)\n",
    "pel2 = pel1[::-1]\n",
    "\n",
    "if pel1==pel2:\n",
    "    print(f'{pel} is a pelindrome number')\n",
    "else:\n",
    "    print(f'{pel} is not a pelindrome number')"
   ]
  },
  {
   "cell_type": "code",
   "execution_count": 66,
   "id": "b1a5c55d",
   "metadata": {},
   "outputs": [
    {
     "data": {
      "text/plain": [
       "'45454'"
      ]
     },
     "execution_count": 66,
     "metadata": {},
     "output_type": "execute_result"
    }
   ],
   "source": [
    "pel2"
   ]
  },
  {
   "cell_type": "code",
   "execution_count": null,
   "id": "22137b87",
   "metadata": {},
   "outputs": [],
   "source": []
  },
  {
   "cell_type": "markdown",
   "id": "18e0a3ea",
   "metadata": {},
   "source": [
    "# Q9. Write a code to print odd numbers from 1 to 100 using list comprehension."
   ]
  },
  {
   "cell_type": "code",
   "execution_count": 79,
   "id": "cb6e0686",
   "metadata": {},
   "outputs": [
    {
     "data": {
      "text/plain": [
       "[1,\n",
       " 3,\n",
       " 5,\n",
       " 7,\n",
       " 9,\n",
       " 11,\n",
       " 13,\n",
       " 15,\n",
       " 17,\n",
       " 19,\n",
       " 21,\n",
       " 23,\n",
       " 25,\n",
       " 27,\n",
       " 29,\n",
       " 31,\n",
       " 33,\n",
       " 35,\n",
       " 37,\n",
       " 39,\n",
       " 41,\n",
       " 43,\n",
       " 45,\n",
       " 47,\n",
       " 49,\n",
       " 51,\n",
       " 53,\n",
       " 55,\n",
       " 57,\n",
       " 59,\n",
       " 61,\n",
       " 63,\n",
       " 65,\n",
       " 67,\n",
       " 69,\n",
       " 71,\n",
       " 73,\n",
       " 75,\n",
       " 77,\n",
       " 79,\n",
       " 81,\n",
       " 83,\n",
       " 85,\n",
       " 87,\n",
       " 89,\n",
       " 91,\n",
       " 93,\n",
       " 95,\n",
       " 97,\n",
       " 99]"
      ]
     },
     "execution_count": 79,
     "metadata": {},
     "output_type": "execute_result"
    }
   ],
   "source": [
    "l9 = [x for x in range(1,101) if x%2 != 0]\n",
    "l9"
   ]
  },
  {
   "cell_type": "code",
   "execution_count": null,
   "id": "df6fcb90",
   "metadata": {},
   "outputs": [],
   "source": []
  }
 ],
 "metadata": {
  "kernelspec": {
   "display_name": "Python 3 (ipykernel)",
   "language": "python",
   "name": "python3"
  },
  "language_info": {
   "codemirror_mode": {
    "name": "ipython",
    "version": 3
   },
   "file_extension": ".py",
   "mimetype": "text/x-python",
   "name": "python",
   "nbconvert_exporter": "python",
   "pygments_lexer": "ipython3",
   "version": "3.10.9"
  }
 },
 "nbformat": 4,
 "nbformat_minor": 5
}
