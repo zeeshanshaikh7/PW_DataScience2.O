{
 "cells": [
  {
   "cell_type": "markdown",
   "id": "b2093b71",
   "metadata": {},
   "source": [
    "# Q1, Create a vehicle class with an init method having instance variables as name_of_vehicle, max_speed and average_of_vehicle. "
   ]
  },
  {
   "cell_type": "code",
   "execution_count": 1,
   "id": "acf63ed4",
   "metadata": {},
   "outputs": [],
   "source": [
    "class vehicle:\n",
    "    \n",
    "    def __init__(self,name,max_speed,average):\n",
    "        self.name_of_vehicle = name\n",
    "        self.max_speed = max_speed\n",
    "        self.average_of_vehicle = average\n",
    "    \n",
    "    def return_data(self):\n",
    "        return self.name_of_vehicle,self.max_speed,self.average_of_vehicle"
   ]
  },
  {
   "cell_type": "code",
   "execution_count": 2,
   "id": "b25d912b",
   "metadata": {},
   "outputs": [],
   "source": [
    "vah = vehicle('creta',200,100)"
   ]
  },
  {
   "cell_type": "code",
   "execution_count": 3,
   "id": "eb01bf8d",
   "metadata": {},
   "outputs": [
    {
     "data": {
      "text/plain": [
       "('creta', 200, 100)"
      ]
     },
     "execution_count": 3,
     "metadata": {},
     "output_type": "execute_result"
    }
   ],
   "source": [
    "vah.return_data()"
   ]
  },
  {
   "cell_type": "code",
   "execution_count": null,
   "id": "954349aa",
   "metadata": {},
   "outputs": [],
   "source": []
  },
  {
   "cell_type": "markdown",
   "id": "9d8ea430",
   "metadata": {},
   "source": [
    "# Q2.  Create a child class car from the vehicle class created in Que 1, which will inherit the vehicle class. Create a method named seating_capacity which takes capacity as an argument and returns the name of the vehicle and its seating capacity."
   ]
  },
  {
   "cell_type": "code",
   "execution_count": 4,
   "id": "d84d74f4",
   "metadata": {},
   "outputs": [],
   "source": [
    "class car(vehicle):\n",
    "    def seating_capacity(self,capacity):\n",
    "        return self.name_of_vehicle,capacity"
   ]
  },
  {
   "cell_type": "code",
   "execution_count": 6,
   "id": "92fa081c",
   "metadata": {},
   "outputs": [],
   "source": [
    "car1 = car('creta',200,100)"
   ]
  },
  {
   "cell_type": "code",
   "execution_count": 7,
   "id": "0168e690",
   "metadata": {},
   "outputs": [
    {
     "data": {
      "text/plain": [
       "('creta', 4)"
      ]
     },
     "execution_count": 7,
     "metadata": {},
     "output_type": "execute_result"
    }
   ],
   "source": [
    "car1.seating_capacity(4)"
   ]
  },
  {
   "cell_type": "code",
   "execution_count": null,
   "id": "36092522",
   "metadata": {},
   "outputs": [],
   "source": []
  },
  {
   "cell_type": "markdown",
   "id": "63fe6aa4",
   "metadata": {},
   "source": [
    "# Q3. What is multiple inheritance? Write a python code to demonstrate multiple inheritance."
   ]
  },
  {
   "cell_type": "markdown",
   "id": "545953fc",
   "metadata": {},
   "source": [
    "\n",
    "### multiple inheritence:\n",
    "    in multiple inheritence one class inherits property from more than one class we can also say one class act as child\n",
    "    of more than one class\n"
   ]
  },
  {
   "cell_type": "code",
   "execution_count": 8,
   "id": "93123a50",
   "metadata": {},
   "outputs": [],
   "source": [
    "class base01:\n",
    "    def base_method1(self):\n",
    "        return 'from base1'"
   ]
  },
  {
   "cell_type": "code",
   "execution_count": 9,
   "id": "4489a8be",
   "metadata": {},
   "outputs": [],
   "source": [
    "class base02:\n",
    "    def base_method2(self):\n",
    "        return 'from base2'"
   ]
  },
  {
   "cell_type": "code",
   "execution_count": 11,
   "id": "02aa8ea6",
   "metadata": {},
   "outputs": [],
   "source": [
    "class child(base01,base02):\n",
    "    pass"
   ]
  },
  {
   "cell_type": "code",
   "execution_count": 12,
   "id": "40be223a",
   "metadata": {},
   "outputs": [],
   "source": [
    "multiple_inh = child()     # this class will inherit property from both class i.e base02 and base01"
   ]
  },
  {
   "cell_type": "code",
   "execution_count": 13,
   "id": "61ab3d4e",
   "metadata": {},
   "outputs": [
    {
     "data": {
      "text/plain": [
       "'from base1'"
      ]
     },
     "execution_count": 13,
     "metadata": {},
     "output_type": "execute_result"
    }
   ],
   "source": [
    "multiple_inh.base_method1()"
   ]
  },
  {
   "cell_type": "code",
   "execution_count": 14,
   "id": "885c4c61",
   "metadata": {},
   "outputs": [
    {
     "data": {
      "text/plain": [
       "'from base2'"
      ]
     },
     "execution_count": 14,
     "metadata": {},
     "output_type": "execute_result"
    }
   ],
   "source": [
    "multiple_inh.base_method2()"
   ]
  },
  {
   "cell_type": "code",
   "execution_count": null,
   "id": "2c2446b1",
   "metadata": {},
   "outputs": [],
   "source": []
  },
  {
   "cell_type": "markdown",
   "id": "4eef1731",
   "metadata": {},
   "source": [
    "# Q4. What are getter and setter in python? Create a class and create a getter and a setter method in this class."
   ]
  },
  {
   "cell_type": "markdown",
   "id": "47667df3",
   "metadata": {},
   "source": [
    "### Getter:\n",
    "    getter is used access the value of an attribute, it is also known as accessor method,it is achieved by using \n",
    "    property decorators\n",
    "    \n",
    "### Setter:\n",
    "    setter is used to modify the value of an attribute,it is also known as mutator method,it is achieved by using \n",
    "    property decorators"
   ]
  },
  {
   "cell_type": "code",
   "execution_count": 55,
   "id": "80b96bb0",
   "metadata": {},
   "outputs": [],
   "source": [
    "# example:"
   ]
  },
  {
   "cell_type": "code",
   "execution_count": 21,
   "id": "10d097a0",
   "metadata": {},
   "outputs": [],
   "source": [
    "class myclass:\n",
    "    def __init__(self):\n",
    "        self.__value = 0\n",
    "     \n",
    "    @property\n",
    "    def get_value(self):\n",
    "        return self.__value\n",
    "    \n",
    "    @get_value.setter\n",
    "    def set_value(self,new_value):\n",
    "        if new_value < 0:\n",
    "            pass\n",
    "        else:\n",
    "            self.__value = new_value"
   ]
  },
  {
   "cell_type": "code",
   "execution_count": 22,
   "id": "a063f3af",
   "metadata": {},
   "outputs": [],
   "source": [
    "obj = myclass()"
   ]
  },
  {
   "cell_type": "code",
   "execution_count": 23,
   "id": "565c3a4b",
   "metadata": {},
   "outputs": [
    {
     "data": {
      "text/plain": [
       "0"
      ]
     },
     "execution_count": 23,
     "metadata": {},
     "output_type": "execute_result"
    }
   ],
   "source": [
    "# using getter\n",
    "obj.get_value"
   ]
  },
  {
   "cell_type": "code",
   "execution_count": 24,
   "id": "fd508b76",
   "metadata": {},
   "outputs": [],
   "source": [
    "# using setter\n",
    "obj.set_value = 100"
   ]
  },
  {
   "cell_type": "code",
   "execution_count": 25,
   "id": "8622c9cc",
   "metadata": {},
   "outputs": [
    {
     "data": {
      "text/plain": [
       "100"
      ]
     },
     "execution_count": 25,
     "metadata": {},
     "output_type": "execute_result"
    }
   ],
   "source": [
    "obj.get_value"
   ]
  },
  {
   "cell_type": "code",
   "execution_count": null,
   "id": "d0e85778",
   "metadata": {},
   "outputs": [],
   "source": []
  },
  {
   "cell_type": "markdown",
   "id": "e6130b98",
   "metadata": {},
   "source": [
    "# Q5.What is method overriding in python? Write a python code to demonstrate method overriding"
   ]
  },
  {
   "cell_type": "markdown",
   "id": "4b0f3c87",
   "metadata": {},
   "source": [
    "### method overriding:\n",
    "       process of redefining parent class's methods in child class or subclass is called method overriding,this can be achieved by providing same name to method with same parameters and codes"
   ]
  },
  {
   "cell_type": "code",
   "execution_count": 26,
   "id": "6be17b2b",
   "metadata": {},
   "outputs": [],
   "source": [
    "#example"
   ]
  },
  {
   "cell_type": "code",
   "execution_count": 39,
   "id": "1ef7ef90",
   "metadata": {},
   "outputs": [],
   "source": [
    "class parent_class:\n",
    "    \n",
    "    def __init__(self):\n",
    "        self.number_of_sides = 3\n",
    "    \n",
    "    def polygon(self):\n",
    "        print(f'I am a triangle, I have {self.number_of_sides} sides')\n",
    "        "
   ]
  },
  {
   "cell_type": "code",
   "execution_count": 40,
   "id": "03f35aab",
   "metadata": {},
   "outputs": [],
   "source": [
    "class child_class(parent_class):\n",
    "    \n",
    "    def __init__(self):\n",
    "        self.number_of_sides = 5\n",
    "     \n",
    "    # redifining method\n",
    "    def polygon(self):\n",
    "        print(f'I am a pentagon,I have {self.number_of_sides} sides')"
   ]
  },
  {
   "cell_type": "code",
   "execution_count": 41,
   "id": "a97c1440",
   "metadata": {},
   "outputs": [],
   "source": [
    "obje1 = parent_class()\n",
    "obje2 = child_class()"
   ]
  },
  {
   "cell_type": "code",
   "execution_count": 42,
   "id": "4b6c0f17",
   "metadata": {},
   "outputs": [
    {
     "name": "stdout",
     "output_type": "stream",
     "text": [
      "I am a triangle, I have 3 sides\n",
      "I am a pentagon,I have 5 sides\n"
     ]
    }
   ],
   "source": [
    "obje1.polygon()\n",
    "obje2.polygon()"
   ]
  },
  {
   "cell_type": "code",
   "execution_count": null,
   "id": "19b1f34f",
   "metadata": {},
   "outputs": [],
   "source": []
  }
 ],
 "metadata": {
  "kernelspec": {
   "display_name": "Python 3 (ipykernel)",
   "language": "python",
   "name": "python3"
  },
  "language_info": {
   "codemirror_mode": {
    "name": "ipython",
    "version": 3
   },
   "file_extension": ".py",
   "mimetype": "text/x-python",
   "name": "python",
   "nbconvert_exporter": "python",
   "pygments_lexer": "ipython3",
   "version": "3.10.9"
  }
 },
 "nbformat": 4,
 "nbformat_minor": 5
}
