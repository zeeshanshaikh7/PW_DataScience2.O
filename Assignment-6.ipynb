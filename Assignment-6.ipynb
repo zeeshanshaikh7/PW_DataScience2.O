{
 "cells": [
  {
   "cell_type": "markdown",
   "id": "1134e40a",
   "metadata": {},
   "source": [
    "# Q1. Explain Class and Object with respect to Object-Oriented Programming. Give a suitable example"
   ]
  },
  {
   "cell_type": "markdown",
   "id": "f22d8857",
   "metadata": {},
   "source": [
    "## class:\n",
    "### class are user defined data types that acts as the blueprints for objects,attributes and methods\n",
    "    \n",
    "## objects:\n",
    "###    objects are the instance of a class"
   ]
  },
  {
   "cell_type": "code",
   "execution_count": 1,
   "id": "0df18d73",
   "metadata": {},
   "outputs": [],
   "source": [
    "# example"
   ]
  },
  {
   "cell_type": "code",
   "execution_count": 3,
   "id": "58ed413d",
   "metadata": {},
   "outputs": [],
   "source": [
    "#creating class\n",
    "\n",
    "class myclass:\n",
    "    \n",
    "    #attributes\n",
    "    value = 100\n",
    "    \n",
    "    #method\n",
    "    def show(self):\n",
    "        return myclass.value"
   ]
  },
  {
   "cell_type": "code",
   "execution_count": 4,
   "id": "22521e45",
   "metadata": {},
   "outputs": [],
   "source": [
    "#initialisation of objects"
   ]
  },
  {
   "cell_type": "code",
   "execution_count": 5,
   "id": "a024e657",
   "metadata": {},
   "outputs": [],
   "source": [
    "obj1 = myclass()"
   ]
  },
  {
   "cell_type": "code",
   "execution_count": 8,
   "id": "c830dd6d",
   "metadata": {},
   "outputs": [
    {
     "data": {
      "text/plain": [
       "100"
      ]
     },
     "execution_count": 8,
     "metadata": {},
     "output_type": "execute_result"
    }
   ],
   "source": [
    "obj1.show()"
   ]
  },
  {
   "cell_type": "code",
   "execution_count": null,
   "id": "dd3b6319",
   "metadata": {},
   "outputs": [],
   "source": []
  },
  {
   "cell_type": "markdown",
   "id": "41cabcdc",
   "metadata": {},
   "source": [
    "# Q2. Name the four pillars of OOPS"
   ]
  },
  {
   "cell_type": "markdown",
   "id": "cb1392ba",
   "metadata": {},
   "source": [
    "## Four pillars of OOPs are:\n",
    "### 1] incapsulation\n",
    "### 2] abstraction\n",
    "### 3] inheritence\n",
    "### 4] polymorphism"
   ]
  },
  {
   "cell_type": "code",
   "execution_count": null,
   "id": "7b3d4fb8",
   "metadata": {},
   "outputs": [],
   "source": []
  },
  {
   "cell_type": "markdown",
   "id": "84b1f840",
   "metadata": {},
   "source": [
    "# Q3. Explain why the __init__() function is used. Give a suitable example."
   ]
  },
  {
   "cell_type": "markdown",
   "id": "063e332f",
   "metadata": {},
   "source": [
    "### init() function is also called as constructor it is used to start any given process ,it invokes the start of execution of any process, it let's the class initialize the objects attributes"
   ]
  },
  {
   "cell_type": "code",
   "execution_count": 9,
   "id": "ef6eb0a1",
   "metadata": {},
   "outputs": [],
   "source": [
    "#example"
   ]
  },
  {
   "cell_type": "code",
   "execution_count": 12,
   "id": "3174d1fd",
   "metadata": {},
   "outputs": [],
   "source": [
    "class myclass1:\n",
    "    \n",
    "    def __init__(self,value):          \n",
    "        self.value = value\n",
    "    \n",
    "    def show(self):\n",
    "        return self.value"
   ]
  },
  {
   "cell_type": "code",
   "execution_count": 13,
   "id": "7570ca0d",
   "metadata": {},
   "outputs": [],
   "source": [
    "obj2 = myclass1(100)"
   ]
  },
  {
   "cell_type": "code",
   "execution_count": 14,
   "id": "3bed8775",
   "metadata": {},
   "outputs": [
    {
     "data": {
      "text/plain": [
       "100"
      ]
     },
     "execution_count": 14,
     "metadata": {},
     "output_type": "execute_result"
    }
   ],
   "source": [
    "obj2.show()"
   ]
  },
  {
   "cell_type": "code",
   "execution_count": null,
   "id": "07d27636",
   "metadata": {},
   "outputs": [],
   "source": []
  },
  {
   "cell_type": "markdown",
   "id": "505d3e9d",
   "metadata": {},
   "source": [
    "# Q4. Why self is used in OOPs?"
   ]
  },
  {
   "cell_type": "markdown",
   "id": "67267ded",
   "metadata": {},
   "source": [
    "### by using self we can access the attributes and methods of a class in python. It binds the attributes with given argument"
   ]
  },
  {
   "cell_type": "code",
   "execution_count": null,
   "id": "6350ebf8",
   "metadata": {},
   "outputs": [],
   "source": []
  },
  {
   "cell_type": "markdown",
   "id": "f7e3550a",
   "metadata": {},
   "source": [
    "# Q5. What is inheritance? Give an example for each type of inheritance."
   ]
  },
  {
   "cell_type": "markdown",
   "id": "f9d5957c",
   "metadata": {},
   "source": [
    "### inheritence is defined as mechanism of inheriting properties of base class to the child class\n",
    "\n",
    "### types of inheritence\n",
    "#### single inheritence\n",
    "#### multiple inheritence\n",
    "#### multilevel inheritence\n",
    "#### Heirarchical inheritence\n",
    "#### Hybrid Inheritence"
   ]
  },
  {
   "cell_type": "code",
   "execution_count": 24,
   "id": "536cc0ef",
   "metadata": {},
   "outputs": [
    {
     "data": {
      "text/plain": [
       "'this is example of single inheritence'"
      ]
     },
     "execution_count": 24,
     "metadata": {},
     "output_type": "execute_result"
    }
   ],
   "source": [
    "# single inheritence\n",
    "\n",
    "class parent_class:\n",
    "    def show(self):\n",
    "        return 'this is example of single inheritence'\n",
    "    \n",
    "class child_class(parent_class):\n",
    "    def method(self):\n",
    "        pass\n",
    "\n",
    "obj3 = child_class()\n",
    "obj3.show()"
   ]
  },
  {
   "cell_type": "code",
   "execution_count": null,
   "id": "ecb1d367",
   "metadata": {},
   "outputs": [],
   "source": []
  },
  {
   "cell_type": "code",
   "execution_count": 25,
   "id": "5e29df8e",
   "metadata": {},
   "outputs": [],
   "source": [
    "# multiple inheritence\n",
    "# in multiple inheritence one class class inherits properties from more than one class\n",
    "\n",
    "class mother:\n",
    "    \n",
    "    def method1(self):\n",
    "        return 'mother class'\n",
    "    \n",
    "class father:\n",
    "    \n",
    "    def method2(self):\n",
    "        return 'father class'\n",
    "\n",
    "class son(mother,father):\n",
    "    \n",
    "    def method3(self):\n",
    "        pass\n",
    "\n",
    "obj4 = son()"
   ]
  },
  {
   "cell_type": "code",
   "execution_count": 26,
   "id": "0bd9f800",
   "metadata": {},
   "outputs": [
    {
     "data": {
      "text/plain": [
       "'mother class'"
      ]
     },
     "execution_count": 26,
     "metadata": {},
     "output_type": "execute_result"
    }
   ],
   "source": [
    "obj4.method1()"
   ]
  },
  {
   "cell_type": "code",
   "execution_count": 27,
   "id": "1d0afada",
   "metadata": {},
   "outputs": [
    {
     "data": {
      "text/plain": [
       "'father class'"
      ]
     },
     "execution_count": 27,
     "metadata": {},
     "output_type": "execute_result"
    }
   ],
   "source": [
    "obj4.method2()"
   ]
  },
  {
   "cell_type": "code",
   "execution_count": null,
   "id": "959cf75c",
   "metadata": {},
   "outputs": [],
   "source": []
  },
  {
   "cell_type": "code",
   "execution_count": 28,
   "id": "fe21b87e",
   "metadata": {},
   "outputs": [],
   "source": [
    "# multilevel inheritence\n",
    "# in multilevel inheritence child class also act as base class for another class\n",
    "\n",
    "class A:\n",
    "    def method_A(self):\n",
    "        return \"A: grandfather\"\n",
    "\n",
    "class B(A):\n",
    "    def method_B(self):\n",
    "        return \"B: father\"\n",
    "\n",
    "class C(B):\n",
    "    def method_C(self):\n",
    "        return \"C: son_and_grandson\"\n",
    "    "
   ]
  },
  {
   "cell_type": "code",
   "execution_count": 29,
   "id": "7f8854c5",
   "metadata": {},
   "outputs": [],
   "source": [
    "obj_C = C()"
   ]
  },
  {
   "cell_type": "code",
   "execution_count": 30,
   "id": "5e339d15",
   "metadata": {},
   "outputs": [
    {
     "data": {
      "text/plain": [
       "'A: grandfather'"
      ]
     },
     "execution_count": 30,
     "metadata": {},
     "output_type": "execute_result"
    }
   ],
   "source": [
    "obj_C.method_A()"
   ]
  },
  {
   "cell_type": "code",
   "execution_count": 31,
   "id": "2220f9a3",
   "metadata": {},
   "outputs": [
    {
     "data": {
      "text/plain": [
       "'B: father'"
      ]
     },
     "execution_count": 31,
     "metadata": {},
     "output_type": "execute_result"
    }
   ],
   "source": [
    "obj_C.method_B()"
   ]
  },
  {
   "cell_type": "code",
   "execution_count": 32,
   "id": "dce38747",
   "metadata": {},
   "outputs": [
    {
     "data": {
      "text/plain": [
       "'C: son_and_grandson'"
      ]
     },
     "execution_count": 32,
     "metadata": {},
     "output_type": "execute_result"
    }
   ],
   "source": [
    "obj_C.method_C()"
   ]
  },
  {
   "cell_type": "code",
   "execution_count": null,
   "id": "71ec5fe6",
   "metadata": {},
   "outputs": [],
   "source": []
  },
  {
   "cell_type": "code",
   "execution_count": 33,
   "id": "0c292528",
   "metadata": {},
   "outputs": [],
   "source": [
    "# heirachical inheritence\n",
    "# when more than one derived class are created from single base class its called heirarchical inheritence\n",
    "\n",
    "class polygon:\n",
    "    \n",
    "    def show(self):\n",
    "        return 'i am a polygon'\n",
    "    \n",
    "class triangle(polygon):\n",
    "    def method1(self):\n",
    "        pass\n",
    "    \n",
    "class pentagon(polygon):\n",
    "    def method(self):\n",
    "        pass\n",
    "\n",
    "tri = triangle()\n",
    "pent = pentagon()"
   ]
  },
  {
   "cell_type": "code",
   "execution_count": 34,
   "id": "6ec7124a",
   "metadata": {},
   "outputs": [
    {
     "data": {
      "text/plain": [
       "'i am a polygon'"
      ]
     },
     "execution_count": 34,
     "metadata": {},
     "output_type": "execute_result"
    }
   ],
   "source": [
    "tri.show()"
   ]
  },
  {
   "cell_type": "code",
   "execution_count": 35,
   "id": "ba9b3b79",
   "metadata": {},
   "outputs": [
    {
     "data": {
      "text/plain": [
       "'i am a polygon'"
      ]
     },
     "execution_count": 35,
     "metadata": {},
     "output_type": "execute_result"
    }
   ],
   "source": [
    "pent.show()"
   ]
  },
  {
   "cell_type": "code",
   "execution_count": null,
   "id": "d23ffc3a",
   "metadata": {},
   "outputs": [],
   "source": []
  },
  {
   "cell_type": "code",
   "execution_count": 36,
   "id": "d8518e8a",
   "metadata": {},
   "outputs": [],
   "source": [
    "# hybrid inheritence\n",
    "# it consist of multiple types of inheritence"
   ]
  },
  {
   "cell_type": "code",
   "execution_count": 37,
   "id": "42ef88a9",
   "metadata": {},
   "outputs": [],
   "source": [
    "class school:\n",
    "    \n",
    "    def func_school(self):\n",
    "        return \"this function is in school\"\n",
    "\n",
    "\n",
    "class class_1(school):\n",
    "    \n",
    "    def func_class_1(self):\n",
    "        return \"this function is in class_1 of school\"\n",
    "    \n",
    "class class_2(school):\n",
    "    \n",
    "    def func_class_2(self):\n",
    "        return \"this function is in class_2 of school\"\n",
    "\n",
    "class student(class_1,class_2):\n",
    "    \n",
    "    def func_student(self):\n",
    "        pass"
   ]
  },
  {
   "cell_type": "code",
   "execution_count": 38,
   "id": "68857220",
   "metadata": {},
   "outputs": [],
   "source": [
    "obj_student = student()"
   ]
  },
  {
   "cell_type": "code",
   "execution_count": 39,
   "id": "9d77de55",
   "metadata": {},
   "outputs": [
    {
     "data": {
      "text/plain": [
       "'this function is in class_1 of school'"
      ]
     },
     "execution_count": 39,
     "metadata": {},
     "output_type": "execute_result"
    }
   ],
   "source": [
    "obj_student.func_class_1()"
   ]
  },
  {
   "cell_type": "code",
   "execution_count": 40,
   "id": "101ac581",
   "metadata": {},
   "outputs": [
    {
     "data": {
      "text/plain": [
       "'this function is in class_2 of school'"
      ]
     },
     "execution_count": 40,
     "metadata": {},
     "output_type": "execute_result"
    }
   ],
   "source": [
    "obj_student.func_class_2()"
   ]
  },
  {
   "cell_type": "code",
   "execution_count": 41,
   "id": "c361a39e",
   "metadata": {},
   "outputs": [
    {
     "data": {
      "text/plain": [
       "'this function is in school'"
      ]
     },
     "execution_count": 41,
     "metadata": {},
     "output_type": "execute_result"
    }
   ],
   "source": [
    "obj_student.func_school()"
   ]
  },
  {
   "cell_type": "code",
   "execution_count": null,
   "id": "87088f2a",
   "metadata": {},
   "outputs": [],
   "source": []
  }
 ],
 "metadata": {
  "kernelspec": {
   "display_name": "Python 3 (ipykernel)",
   "language": "python",
   "name": "python3"
  },
  "language_info": {
   "codemirror_mode": {
    "name": "ipython",
    "version": 3
   },
   "file_extension": ".py",
   "mimetype": "text/x-python",
   "name": "python",
   "nbconvert_exporter": "python",
   "pygments_lexer": "ipython3",
   "version": "3.10.9"
  }
 },
 "nbformat": 4,
 "nbformat_minor": 5
}
