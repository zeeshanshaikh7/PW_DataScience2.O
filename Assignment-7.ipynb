{
 "cells": [
  {
   "cell_type": "markdown",
   "id": "271c5af3",
   "metadata": {},
   "source": [
    "# Q1. What is Abstraction in OOPs? Explain with an example."
   ]
  },
  {
   "cell_type": "markdown",
   "id": "97b7be46",
   "metadata": {},
   "source": [
    "## abstraction\n",
    "### abstraction in python is defined as process of handling complexity by hiding unnecessary information form user. This is one of the core concept in OOP and it is also amongst the four fillars of oop\n",
    "\n",
    "### abstract classes can be consider as blueprint for other subclasses"
   ]
  },
  {
   "cell_type": "code",
   "execution_count": 6,
   "id": "577eb9cf",
   "metadata": {},
   "outputs": [],
   "source": [
    "# example\n",
    "\n",
    "from abc import ABC\n",
    "\n",
    "class polygon(ABC):\n",
    "    \n",
    "    @abc.abstractmethod\n",
    "    def sides(self):\n",
    "        pass\n",
    "\n",
    "class triangle(polygon):\n",
    "    \n",
    "    def sides(self):\n",
    "        return 'i have 3 sides'\n",
    "    \n",
    "\n",
    "class quadrilateral(polygon):\n",
    "    \n",
    "    def sides(self):\n",
    "        return 'i have 4 sides'\n",
    "    \n",
    "\n",
    "class pentagon(polygon):\n",
    "    \n",
    "    def sides(self):\n",
    "        return 'i have 5 sides'\n",
    "    \n",
    "\n",
    "class hexagon(polygon):\n",
    "    def sides(self):\n",
    "        return 'i have 6 sides'"
   ]
  },
  {
   "cell_type": "code",
   "execution_count": 7,
   "id": "dd019474",
   "metadata": {},
   "outputs": [
    {
     "data": {
      "text/plain": [
       "'i have 3 sides'"
      ]
     },
     "execution_count": 7,
     "metadata": {},
     "output_type": "execute_result"
    }
   ],
   "source": [
    "t = triangle()\n",
    "t.sides()"
   ]
  },
  {
   "cell_type": "code",
   "execution_count": 8,
   "id": "586b634e",
   "metadata": {},
   "outputs": [
    {
     "data": {
      "text/plain": [
       "'i have 4 sides'"
      ]
     },
     "execution_count": 8,
     "metadata": {},
     "output_type": "execute_result"
    }
   ],
   "source": [
    "q = quadrilateral()\n",
    "q.sides()"
   ]
  },
  {
   "cell_type": "code",
   "execution_count": 9,
   "id": "0dd86de0",
   "metadata": {},
   "outputs": [
    {
     "data": {
      "text/plain": [
       "'i have 5 sides'"
      ]
     },
     "execution_count": 9,
     "metadata": {},
     "output_type": "execute_result"
    }
   ],
   "source": [
    "p = pentagon()\n",
    "p.sides()"
   ]
  },
  {
   "cell_type": "code",
   "execution_count": 10,
   "id": "256ca0a5",
   "metadata": {},
   "outputs": [
    {
     "data": {
      "text/plain": [
       "'i have 6 sides'"
      ]
     },
     "execution_count": 10,
     "metadata": {},
     "output_type": "execute_result"
    }
   ],
   "source": [
    "h = hexagon()\n",
    "h.sides()"
   ]
  },
  {
   "cell_type": "code",
   "execution_count": null,
   "id": "382d827d",
   "metadata": {},
   "outputs": [],
   "source": []
  },
  {
   "cell_type": "markdown",
   "id": "a5e5f99d",
   "metadata": {},
   "source": [
    "# Q2. Differentiate between Abstraction and Encapsulation. Explain with an example."
   ]
  },
  {
   "cell_type": "markdown",
   "id": "058446a9",
   "metadata": {},
   "source": [
    "## Abstraction is hiding the details and implementaion of code. Encapsulation is hiding the data and controlling the visibility of the code. In abstraction only abstract classes can be accessed while in encapsulation we cant access encapsulated methods"
   ]
  },
  {
   "cell_type": "code",
   "execution_count": 20,
   "id": "87d89151",
   "metadata": {},
   "outputs": [
    {
     "data": {
      "text/plain": [
       "'i have 3 sides'"
      ]
     },
     "execution_count": 20,
     "metadata": {},
     "output_type": "execute_result"
    }
   ],
   "source": [
    "# example of abstracion\n",
    "#once class has made to abstract class than its methods other than abtract method can't be accessed this\n",
    "# allows us to access inly neccessary methods and attributes\n",
    "\n",
    "from abc import ABC\n",
    "\n",
    "class polygon1(ABC):\n",
    "    \n",
    "    @abc.abstractmethod\n",
    "    def sides(self):\n",
    "        pass\n",
    "    \n",
    "    def show(self):\n",
    "        return 'this is base class'\n",
    "\n",
    "    \n",
    "class triangle1(polygon):\n",
    "    \n",
    "    def sides(self):\n",
    "        return 'i have 3 sides'\n",
    "\n",
    "    \n",
    "# creating object of abstract class\n",
    "abst = triangle1()\n",
    "abst.sides()         # here other information of abstract class cant be accessed"
   ]
  },
  {
   "cell_type": "code",
   "execution_count": 30,
   "id": "d8119734",
   "metadata": {},
   "outputs": [
    {
     "name": "stdout",
     "output_type": "stream",
     "text": [
      "number of sides is 3\n"
     ]
    }
   ],
   "source": [
    "# example for encapsulation\n",
    "# in encapsulation visibility of data or code is controlled that means it can made them private\n",
    "\n",
    "\n",
    "class polygon2:\n",
    "    \n",
    "    def __init__(self,sides):\n",
    "        self.__sides = sides\n",
    "    \n",
    "    def sides(self):\n",
    "        print(f'number of sides is {self.__sides}')\n",
    "\n",
    "class triangle2(polygon2):\n",
    "    \n",
    "    def show(self):\n",
    "        pass\n",
    "    \n",
    "\n",
    "enc = triangle2(3)\n",
    "enc.sides()           # here we cants access the hidden data but other methods and attributes can be accessed"
   ]
  },
  {
   "cell_type": "code",
   "execution_count": null,
   "id": "4890a964",
   "metadata": {},
   "outputs": [],
   "source": []
  },
  {
   "cell_type": "code",
   "execution_count": null,
   "id": "40a01561",
   "metadata": {},
   "outputs": [],
   "source": []
  },
  {
   "cell_type": "markdown",
   "id": "f306f946",
   "metadata": {},
   "source": [
    "# Q3. What is abc module in python? Why is it used?"
   ]
  },
  {
   "cell_type": "markdown",
   "id": "a2ec6aab",
   "metadata": {},
   "source": [
    "### python has module called abc (abstract base class) that offers necessary tools for creating an abstract base class. The abc module in python library provides the infrastructure for defining custom abstract base classes. It is done by using @abstractmethod decorator"
   ]
  },
  {
   "cell_type": "code",
   "execution_count": null,
   "id": "5f690189",
   "metadata": {},
   "outputs": [],
   "source": []
  },
  {
   "cell_type": "code",
   "execution_count": null,
   "id": "ce35136a",
   "metadata": {},
   "outputs": [],
   "source": []
  },
  {
   "cell_type": "markdown",
   "id": "4c72f610",
   "metadata": {},
   "source": [
    "# Q4. How can we achieve data abstraction?"
   ]
  },
  {
   "cell_type": "markdown",
   "id": "47c248a6",
   "metadata": {},
   "source": [
    "### Data abstraction in done by using \n",
    "#### @abstractmethod decorator\n",
    "#### Encapsulation\n",
    "#### Access modifiers: python does not have built in access modifiers but we prefixed attributes or methods with single underscore(_) or double underscore( __)\n",
    "#### getter & setter : these provides controlled access to class attributes\n",
    "#### property decorators: @property"
   ]
  },
  {
   "cell_type": "code",
   "execution_count": null,
   "id": "9f4f510a",
   "metadata": {},
   "outputs": [],
   "source": []
  },
  {
   "cell_type": "code",
   "execution_count": null,
   "id": "cc2db598",
   "metadata": {},
   "outputs": [],
   "source": []
  },
  {
   "cell_type": "markdown",
   "id": "30addaec",
   "metadata": {},
   "source": [
    "# Q5. Can we create an instance of an abstract class? Explain your answer."
   ]
  },
  {
   "cell_type": "markdown",
   "id": "f6268ce4",
   "metadata": {},
   "source": [
    "### we can not create instance of abstract class directly. Abstract classes are meant to be subclasses and serve as blueprint for concrete classes. They are designed to inherited and extended by other classes"
   ]
  },
  {
   "cell_type": "code",
   "execution_count": 5,
   "id": "0e99fdc1",
   "metadata": {},
   "outputs": [
    {
     "ename": "TypeError",
     "evalue": "Can't instantiate abstract class polygon3 with abstract method sides",
     "output_type": "error",
     "traceback": [
      "\u001b[1;31m---------------------------------------------------------------------------\u001b[0m",
      "\u001b[1;31mTypeError\u001b[0m                                 Traceback (most recent call last)",
      "Cell \u001b[1;32mIn[5], line 10\u001b[0m\n\u001b[0;32m      6\u001b[0m     \u001b[38;5;129m@abstractmethod\u001b[39m\n\u001b[0;32m      7\u001b[0m     \u001b[38;5;28;01mdef\u001b[39;00m \u001b[38;5;21msides\u001b[39m(\u001b[38;5;28mself\u001b[39m):\n\u001b[0;32m      8\u001b[0m         \u001b[38;5;28;01mpass\u001b[39;00m\n\u001b[1;32m---> 10\u001b[0m obj_test \u001b[38;5;241m=\u001b[39m \u001b[43mpolygon3\u001b[49m\u001b[43m(\u001b[49m\u001b[43m)\u001b[49m\n",
      "\u001b[1;31mTypeError\u001b[0m: Can't instantiate abstract class polygon3 with abstract method sides"
     ]
    }
   ],
   "source": [
    "#example \n",
    "# in this example it is demonstrated that we cant creat instance of abstract class\n",
    "\n",
    "from abc import abstractmethod, ABC\n",
    "\n",
    "class polygon3(ABC):\n",
    "    \n",
    "    @abstractmethod\n",
    "    def sides(self):\n",
    "        pass\n",
    "    \n",
    "obj_test = polygon3()"
   ]
  }
 ],
 "metadata": {
  "kernelspec": {
   "display_name": "Python 3 (ipykernel)",
   "language": "python",
   "name": "python3"
  },
  "language_info": {
   "codemirror_mode": {
    "name": "ipython",
    "version": 3
   },
   "file_extension": ".py",
   "mimetype": "text/x-python",
   "name": "python",
   "nbconvert_exporter": "python",
   "pygments_lexer": "ipython3",
   "version": "3.10.9"
  }
 },
 "nbformat": 4,
 "nbformat_minor": 5
}
